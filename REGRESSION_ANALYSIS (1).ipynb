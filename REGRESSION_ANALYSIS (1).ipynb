{
  "nbformat": 4,
  "nbformat_minor": 0,
  "metadata": {
    "colab": {
      "provenance": [],
      "gpuType": "T4"
    },
    "kernelspec": {
      "name": "python3",
      "display_name": "Python 3"
    },
    "language_info": {
      "name": "python"
    },
    "accelerator": "GPU"
  },
  "cells": [
    {
      "cell_type": "markdown",
      "source": [
        "# ***LIBRARIES***"
      ],
      "metadata": {
        "id": "1HREaM9unM7v"
      }
    },
    {
      "cell_type": "code",
      "source": [
        "import pandas as pd\n",
        "import folium\n",
        "from folium import plugins\n",
        "import matplotlib.pyplot as plt\n",
        "import seaborn as sns\n",
        "from statsmodels.stats.outliers_influence import variance_inflation_factor\n",
        "from sklearn.preprocessing import StandardScaler,PolynomialFeatures\n",
        "from sklearn.model_selection import train_test_split, GridSearchCV\n",
        "from sklearn.linear_model import LinearRegression, Ridge, Lasso, RidgeCV, LassoCV\n",
        "from sklearn.ensemble import RandomForestRegressor\n",
        "from xgboost import XGBRegressor\n",
        "from tensorflow import keras\n",
        "from tensorflow.keras import layers\n",
        "from tensorflow.keras.layers import Dropout\n",
        "from sklearn.metrics import mean_squared_error, mean_absolute_error, r2_score"
      ],
      "metadata": {
        "id": "JPwkAVn4jCMm"
      },
      "execution_count": null,
      "outputs": []
    },
    {
      "cell_type": "markdown",
      "source": [
        "# ***DATA LOADING & PREPROCESSING***"
      ],
      "metadata": {
        "id": "3KOdtF_AJJlF"
      }
    },
    {
      "cell_type": "code",
      "source": [
        "df = pd.read_csv('train.csv')\n",
        "df.head(5)"
      ],
      "metadata": {
        "id": "-INrnsICC9o6"
      },
      "execution_count": null,
      "outputs": []
    },
    {
      "cell_type": "code",
      "source": [
        "df.shape"
      ],
      "metadata": {
        "id": "tgnGJhzAc_s1"
      },
      "execution_count": null,
      "outputs": []
    },
    {
      "cell_type": "code",
      "source": [
        "df.info()"
      ],
      "metadata": {
        "id": "ip4irksLOvY1"
      },
      "execution_count": null,
      "outputs": []
    },
    {
      "cell_type": "code",
      "source": [
        "df.describe().T"
      ],
      "metadata": {
        "id": "DV6oQXGgc977"
      },
      "execution_count": null,
      "outputs": []
    },
    {
      "cell_type": "code",
      "source": [
        "df.isna().sum()"
      ],
      "metadata": {
        "id": "9LabqLt5dCg5"
      },
      "execution_count": null,
      "outputs": []
    },
    {
      "cell_type": "code",
      "source": [
        "df.isnull().sum()"
      ],
      "metadata": {
        "id": "gHqrm3QqdJu1"
      },
      "execution_count": null,
      "outputs": []
    },
    {
      "cell_type": "code",
      "source": [
        "df_new=df.drop_duplicates()"
      ],
      "metadata": {
        "id": "9UQKAsDndMRZ"
      },
      "execution_count": null,
      "outputs": []
    },
    {
      "cell_type": "code",
      "source": [
        "filtered_df = df_new[\n",
        "    (df_new['LONGITUDE'] <= 37.6) &\n",
        "    (df_new['LONGITUDE'] >= 8.4) &\n",
        "    (df_new['LATITUDE'] >= 68.1) &\n",
        "    (df_new['LATITUDE'] <= 97.4)\n",
        "]\n",
        "\n",
        "filtered_df.shape"
      ],
      "metadata": {
        "id": "cDpiipCR4Sta"
      },
      "execution_count": null,
      "outputs": []
    },
    {
      "cell_type": "code",
      "source": [
        "map_center = [filtered_df['LONGITUDE'].mean(), filtered_df['LATITUDE'].mean()]\n",
        "my_map = folium.Map(location=map_center, zoom_start=10)\n",
        "\n",
        "marker_cluster = plugins.MarkerCluster().add_to(my_map)\n",
        "\n",
        "for index, row in filtered_df.iterrows():\n",
        "    folium.Marker(\n",
        "        location=[row['LONGITUDE'], row['LATITUDE']],\n",
        "        popup=index\n",
        "    ).add_to(marker_cluster)\n",
        "\n",
        "display(my_map)"
      ],
      "metadata": {
        "id": "ZnZfa9Q3dqXa"
      },
      "execution_count": null,
      "outputs": []
    },
    {
      "cell_type": "code",
      "source": [
        "filtered_df.drop([17235,19975,12001,5093,23479,11633,7142], inplace=True)"
      ],
      "metadata": {
        "id": "gNtdlALy5HEf"
      },
      "execution_count": null,
      "outputs": []
    },
    {
      "cell_type": "code",
      "source": [
        "new_column_names = {'LONGITUDE': 'LATITUDE', 'LATITUDE': 'LONGITUDE'}\n",
        "filtered_df.rename(columns=new_column_names, inplace=True)"
      ],
      "metadata": {
        "id": "ANmRzgCG--hh"
      },
      "execution_count": null,
      "outputs": []
    },
    {
      "cell_type": "code",
      "source": [
        "filtered_df.drop('ADDRESS', axis=1, inplace=True)\n",
        "filtered_df.head()"
      ],
      "metadata": {
        "id": "cuIUf4N2IfrP"
      },
      "execution_count": null,
      "outputs": []
    },
    {
      "cell_type": "markdown",
      "source": [
        "# ***EXPLORATORY DATA ANALYSIS***"
      ],
      "metadata": {
        "id": "Wsjyw3qLJRAr"
      }
    },
    {
      "cell_type": "code",
      "source": [
        "plt.figure(figsize=(8, 8))\n",
        "plt.pie(filtered_df['POSTED_BY'].value_counts(), labels=filtered_df['POSTED_BY'].value_counts().index, autopct='%1.1f%%', startangle=90)\n",
        "plt.title('Distribution of Property Lister')\n",
        "plt.show()\n",
        "\n",
        "# Majority of the properities have been listed by real-estate dealers."
      ],
      "metadata": {
        "id": "r9ADjEviJUyq"
      },
      "execution_count": null,
      "outputs": []
    },
    {
      "cell_type": "code",
      "source": [
        "plt.figure(figsize=(8, 8))\n",
        "plt.pie(filtered_df['BHK_OR_RK'].value_counts(), labels=filtered_df['BHK_OR_RK'].value_counts().index, autopct='%1.1f%%', startangle=90)\n",
        "plt.title('Distribution of Type of Property ')\n",
        "plt.show()\n",
        "\n",
        "# Almost all properties are equipped with a bedroom, extremely few are one room-kitchen."
      ],
      "metadata": {
        "id": "sVQBg5flJiMI"
      },
      "execution_count": null,
      "outputs": []
    },
    {
      "cell_type": "code",
      "source": [
        "plt.figure(figsize=(12,10))\n",
        "sns.heatmap(filtered_df.corr(), annot=True)"
      ],
      "metadata": {
        "id": "1KDR7HWmJ7W2"
      },
      "execution_count": null,
      "outputs": []
    },
    {
      "cell_type": "code",
      "source": [
        "filtered_df[['UNDER_CONSTRUCTION','READY_TO_MOVE']].head() # same columns, drop one"
      ],
      "metadata": {
        "id": "GTuDoVm7LMU0"
      },
      "execution_count": null,
      "outputs": []
    },
    {
      "cell_type": "code",
      "source": [
        "filtered_df.drop('UNDER_CONSTRUCTION', axis=1, inplace=True)\n",
        "filtered_df.head()"
      ],
      "metadata": {
        "id": "l3G9nMzlLa-g"
      },
      "execution_count": null,
      "outputs": []
    },
    {
      "cell_type": "code",
      "source": [
        "filtered_df.skew()"
      ],
      "metadata": {
        "id": "ey0Xk-ViL8r-"
      },
      "execution_count": null,
      "outputs": []
    },
    {
      "cell_type": "code",
      "source": [
        "sns.distplot(filtered_df['SQUARE_FT'],kde=True,color=\"g\")\n",
        "plt.show()"
      ],
      "metadata": {
        "id": "MSy9ygQSPgFD"
      },
      "execution_count": null,
      "outputs": []
    },
    {
      "cell_type": "code",
      "source": [
        "filtered_df.boxplot(['SQUARE_FT'])\n",
        "plt.title('Boxplot of Categories')\n",
        "plt.ylabel('Values')\n",
        "plt.show()"
      ],
      "metadata": {
        "id": "okouDETwP6am"
      },
      "execution_count": null,
      "outputs": []
    },
    {
      "cell_type": "code",
      "source": [
        "Q1=filtered_df['SQUARE_FT'].quantile(0.25)\n",
        "Q3=filtered_df['SQUARE_FT'].quantile(0.75)\n",
        "IQR = Q3 - Q1\n",
        "print(Q1, Q3, IQR)\n",
        "\n",
        "lower_bound = Q1 - 1.5 * IQR\n",
        "upper_bound = Q3 + 1.5 * IQR\n",
        "\n",
        "outliers_mask = (filtered_df['SQUARE_FT'] < lower_bound) | (filtered_df['SQUARE_FT'] > upper_bound)\n",
        "\n",
        "filtered_df_no_outliers = filtered_df[~outliers_mask]"
      ],
      "metadata": {
        "id": "3CYMYQgsQI48"
      },
      "execution_count": null,
      "outputs": []
    },
    {
      "cell_type": "code",
      "source": [
        "filtered_df_no_outliers.boxplot(['TARGET(PRICE_IN_LACS)'])\n",
        "plt.title('Boxplot of Categories')\n",
        "plt.ylabel('Values')\n",
        "plt.show()"
      ],
      "metadata": {
        "id": "rBg25tBRRTMn"
      },
      "execution_count": null,
      "outputs": []
    },
    {
      "cell_type": "code",
      "source": [
        "Q1=filtered_df_no_outliers['TARGET(PRICE_IN_LACS)'].quantile(0.25)\n",
        "Q3=filtered_df_no_outliers['TARGET(PRICE_IN_LACS)'].quantile(0.75)\n",
        "IQR = Q3 - Q1\n",
        "print(Q1, Q3, IQR)\n",
        "\n",
        "lower_bound = Q1 - 1.5 * IQR\n",
        "upper_bound = Q3 + 1.5 * IQR\n",
        "\n",
        "outliers_mask = (filtered_df_no_outliers['TARGET(PRICE_IN_LACS)'] < lower_bound) | (filtered_df_no_outliers['TARGET(PRICE_IN_LACS)'] > upper_bound)\n",
        "\n",
        "filtered_df_no_price_outliers = filtered_df_no_outliers[~outliers_mask]"
      ],
      "metadata": {
        "id": "c3sKShchSdbg"
      },
      "execution_count": null,
      "outputs": []
    },
    {
      "cell_type": "code",
      "source": [
        "plt.figure(figsize=(20,18))\n",
        "sns.pairplot(filtered_df_no_price_outliers)\n",
        "plt.show()"
      ],
      "metadata": {
        "id": "HU8kiaJPUp6v"
      },
      "execution_count": null,
      "outputs": []
    },
    {
      "cell_type": "code",
      "source": [
        "filtered_df_catgeorical = filtered_df_no_price_outliers[['RERA', 'BHK_NO.', 'SQUARE_FT', 'READY_TO_MOVE', 'RESALE', 'LATITUDE', 'LONGITUDE', 'TARGET(PRICE_IN_LACS)']]"
      ],
      "metadata": {
        "id": "ruh_bvsGWYRa"
      },
      "execution_count": null,
      "outputs": []
    },
    {
      "cell_type": "code",
      "source": [
        "vif_data = pd.DataFrame()\n",
        "vif_data[\"feature\"] = filtered_df_catgeorical.columns\n",
        "\n",
        "vif_data[\"VIF\"] = [variance_inflation_factor(filtered_df_catgeorical.values, i)\n",
        "                          for i in range(len(filtered_df_catgeorical.columns))]\n",
        "\n",
        "print(vif_data)"
      ],
      "metadata": {
        "id": "_Mn48IXdUuLH"
      },
      "execution_count": null,
      "outputs": []
    },
    {
      "cell_type": "markdown",
      "source": [
        "# ***MODELLING***"
      ],
      "metadata": {
        "id": "Epz0CJNWsTh5"
      }
    },
    {
      "cell_type": "markdown",
      "source": [
        "### ***Separating the dataset into X & y***"
      ],
      "metadata": {
        "id": "CLWAs6nosXxX"
      }
    },
    {
      "cell_type": "code",
      "source": [
        "X = filtered_df_no_price_outliers.drop('TARGET(PRICE_IN_LACS)', axis=1)\n",
        "y = filtered_df_no_price_outliers['TARGET(PRICE_IN_LACS)']"
      ],
      "metadata": {
        "id": "ZMGM9UxUiBOY"
      },
      "execution_count": null,
      "outputs": []
    },
    {
      "cell_type": "markdown",
      "source": [
        "### ***One Hot Encoding Categorical columns***"
      ],
      "metadata": {
        "id": "PnjvGZRFsgqU"
      }
    },
    {
      "cell_type": "code",
      "source": [
        "X = pd.get_dummies(X, columns=['POSTED_BY'], prefix='POSTED_BY')\n",
        "X = pd.get_dummies(X, columns=['BHK_OR_RK'], prefix='BHK_OR_RK')\n",
        "print(X.head())"
      ],
      "metadata": {
        "id": "GVFBK29ij_fd"
      },
      "execution_count": null,
      "outputs": []
    },
    {
      "cell_type": "markdown",
      "source": [
        "### ***Scaling the predictors using Standard Scalar***"
      ],
      "metadata": {
        "id": "s4FNmkBpsw7W"
      }
    },
    {
      "cell_type": "code",
      "source": [
        "scaler = StandardScaler()\n",
        "X_scaled = scaler.fit_transform(X)"
      ],
      "metadata": {
        "id": "gPHfZZ0xiwBo"
      },
      "execution_count": null,
      "outputs": []
    },
    {
      "cell_type": "markdown",
      "source": [
        "### ***Splitting the dataset***"
      ],
      "metadata": {
        "id": "iVNFl3MmtBYo"
      }
    },
    {
      "cell_type": "code",
      "source": [
        "X_train, X_test, y_train, y_test = train_test_split(X_scaled, y, test_size=0.2, random_state=42)"
      ],
      "metadata": {
        "id": "xfUvuDYzimbA"
      },
      "execution_count": null,
      "outputs": []
    },
    {
      "cell_type": "code",
      "source": [
        "X_train.shape"
      ],
      "metadata": {
        "id": "xB5g-vPVkUNC"
      },
      "execution_count": null,
      "outputs": []
    },
    {
      "cell_type": "markdown",
      "source": [
        "### ***Polynomial Regression***"
      ],
      "metadata": {
        "id": "UQ6s0JNOtLGk"
      }
    },
    {
      "cell_type": "code",
      "source": [
        "degree = 2\n",
        "poly = PolynomialFeatures(degree)\n",
        "X_train_poly = poly.fit_transform(X_train)\n",
        "X_test_poly = poly.transform(X_test)"
      ],
      "metadata": {
        "id": "v2lGygv8lKKF"
      },
      "execution_count": null,
      "outputs": []
    },
    {
      "cell_type": "code",
      "source": [
        "poly_model = LinearRegression()\n",
        "poly_model.fit(X_train_poly, y_train)"
      ],
      "metadata": {
        "id": "YHCFyJPFlr7E"
      },
      "execution_count": null,
      "outputs": []
    },
    {
      "cell_type": "code",
      "source": [
        "y_pred_poly = poly_model.predict(X_test_poly)"
      ],
      "metadata": {
        "id": "N-WU0cdUlxeW"
      },
      "execution_count": null,
      "outputs": []
    },
    {
      "cell_type": "code",
      "source": [
        "mse_poly = mean_squared_error(y_test, y_pred_poly)\n",
        "mae_poly = mean_absolute_error(y_test, y_pred_poly)\n",
        "r2_poly = r2_score(y_test, y_pred_poly)\n",
        "\n",
        "print(f'Mean Squared Error (Polynomial Regression): {mse_poly}')\n",
        "print(f'Mean Absolute Error (Polynomial Regression): {mae_poly}')\n",
        "print(f'R-squared Score (Polynomial Regression): {r2_poly}')"
      ],
      "metadata": {
        "id": "Q-ptu_8Il3Iw"
      },
      "execution_count": null,
      "outputs": []
    },
    {
      "cell_type": "code",
      "source": [
        "plt.figure(figsize=(8,6))\n",
        "plt.scatter(y_test, y_pred_poly, color='blue', marker='o', label='Actual vs. Predicted')\n",
        "plt.xlabel('Actual Values')\n",
        "plt.ylabel('Predicted Values')\n",
        "plt.title('Scatter Plot of Actual vs. Predicted Values')\n",
        "plt.plot([min(y_test), max(y_test)], [min(y_pred_poly), max(y_pred_poly)], linestyle='--', color='red', label='Perfect Prediction')\n",
        "plt.legend()\n",
        "plt.show()"
      ],
      "metadata": {
        "id": "IoQAPfE4tcW6"
      },
      "execution_count": null,
      "outputs": []
    },
    {
      "cell_type": "markdown",
      "source": [
        "### ***Ridge Regression***"
      ],
      "metadata": {
        "id": "nvg-V7aozuvI"
      }
    },
    {
      "cell_type": "code",
      "source": [
        "alphas = [0.1, 1.0, 10.0]\n",
        "ridge_cv = RidgeCV(alphas=alphas, store_cv_values=True)\n",
        "ridge_cv.fit(X_train, y_train)"
      ],
      "metadata": {
        "id": "T9vlxE7PucwE"
      },
      "execution_count": null,
      "outputs": []
    },
    {
      "cell_type": "code",
      "source": [
        "best_alpha = ridge_cv.alpha_\n",
        "\n",
        "best_alpha"
      ],
      "metadata": {
        "id": "HflJaN2a0dx_"
      },
      "execution_count": null,
      "outputs": []
    },
    {
      "cell_type": "code",
      "source": [
        "best_ridge_model = Ridge(alpha=best_alpha)\n",
        "best_ridge_model.fit(X_train, y_train)"
      ],
      "metadata": {
        "id": "YSbBvXQ20hN9"
      },
      "execution_count": null,
      "outputs": []
    },
    {
      "cell_type": "code",
      "source": [
        "y_pred_best = best_ridge_model.predict(X_test)"
      ],
      "metadata": {
        "id": "6POBlsry0nxC"
      },
      "execution_count": null,
      "outputs": []
    },
    {
      "cell_type": "code",
      "source": [
        "mse_best = mean_squared_error(y_test, y_pred_best)\n",
        "mae_best = mean_absolute_error(y_test, y_pred_best)\n",
        "r2_best = r2_score(y_test, y_pred_best)\n",
        "\n",
        "print(f'Best Alpha: {best_alpha}')\n",
        "print(f'Mean Squared Error (Ridge Regression - Best Model): {mse_best}')\n",
        "print(f'Mean Absolute Error (Ridge Regression - Best Model): {mae_best}')\n",
        "print(f'R-squared Score (Ridge Regression - Best Model): {r2_best}')"
      ],
      "metadata": {
        "id": "eUPCuS2o0p8R"
      },
      "execution_count": null,
      "outputs": []
    },
    {
      "cell_type": "code",
      "source": [
        "plt.figure(figsize=(8,6))\n",
        "plt.scatter(y_test, y_pred_best, color='blue', marker='o', label='Actual vs. Predicted')\n",
        "plt.xlabel('Actual Values')\n",
        "plt.ylabel('Predicted Values')\n",
        "plt.title('Scatter Plot of Actual vs. Predicted Values')\n",
        "plt.plot([min(y_test), max(y_test)], [min(y_pred_best), max(y_pred_best)], linestyle='--', color='red', label='Perfect Prediction')\n",
        "plt.legend()\n",
        "plt.show()"
      ],
      "metadata": {
        "id": "HEOIQH0b0sG0"
      },
      "execution_count": null,
      "outputs": []
    },
    {
      "cell_type": "markdown",
      "source": [
        "### ***Lasso Regression***"
      ],
      "metadata": {
        "id": "QXmnSePh2VPZ"
      }
    },
    {
      "cell_type": "code",
      "source": [
        "alphas = [0.1, 1.0, 10.0]\n",
        "lasso_cv = LassoCV(alphas=alphas)\n",
        "lasso_cv.fit(X_train, y_train)"
      ],
      "metadata": {
        "id": "5X2aCpjP04Ss"
      },
      "execution_count": null,
      "outputs": []
    },
    {
      "cell_type": "code",
      "source": [
        "best_alpha = lasso_cv.alpha_\n",
        "best_alpha"
      ],
      "metadata": {
        "id": "urbkr1mw2egF"
      },
      "execution_count": null,
      "outputs": []
    },
    {
      "cell_type": "code",
      "source": [
        "best_lasso_model = Lasso(alpha=best_alpha)\n",
        "best_lasso_model.fit(X_train, y_train)"
      ],
      "metadata": {
        "id": "Y1izYpYF2ken"
      },
      "execution_count": null,
      "outputs": []
    },
    {
      "cell_type": "code",
      "source": [
        "y_pred_best1 = best_lasso_model.predict(X_test)"
      ],
      "metadata": {
        "id": "IuCybExs2nfn"
      },
      "execution_count": null,
      "outputs": []
    },
    {
      "cell_type": "code",
      "source": [
        "mse_best = mean_squared_error(y_test, y_pred_best1)\n",
        "mae_best = mean_absolute_error(y_test, y_pred_best1)\n",
        "r2_best = r2_score(y_test, y_pred_best1)\n",
        "\n",
        "print(f'Best Alpha: {best_alpha}')\n",
        "print(f'Mean Squared Error (Lasso Regression - Best Model): {mse_best}')\n",
        "print(f'Mean Absolute Error (Lasso Regression - Best Model): {mae_best}')\n",
        "print(f'R-squared Score (Lasso Regression - Best Model): {r2_best}')"
      ],
      "metadata": {
        "id": "f67mQu8B2sHd"
      },
      "execution_count": null,
      "outputs": []
    },
    {
      "cell_type": "code",
      "source": [
        "plt.figure(figsize=(8,6))\n",
        "plt.scatter(y_test, y_pred_best1, color='blue', marker='o', label='Actual vs. Predicted')\n",
        "plt.xlabel('Actual Values')\n",
        "plt.ylabel('Predicted Values')\n",
        "plt.title('Scatter Plot of Actual vs. Predicted Values')\n",
        "plt.plot([min(y_test), max(y_test)], [min(y_pred_best1), max(y_pred_best1)], linestyle='--', color='red', label='Perfect Prediction')\n",
        "plt.legend()\n",
        "plt.show()"
      ],
      "metadata": {
        "id": "-ah_LNPs2zvx"
      },
      "execution_count": null,
      "outputs": []
    },
    {
      "cell_type": "markdown",
      "source": [
        "### ***Random Forest Regressor***"
      ],
      "metadata": {
        "id": "e0dzYg1e3rIf"
      }
    },
    {
      "cell_type": "code",
      "source": [
        "param_grid = {\n",
        "    'n_estimators': [10, 20, 50],\n",
        "    'max_depth': [None, 10, 20],\n",
        "    'min_samples_split': [2, 5, 10],\n",
        "    'min_samples_leaf': [1, 2, 4]\n",
        "}\n",
        "\n",
        "rf_model = RandomForestRegressor(random_state=42)\n",
        "grid_search = GridSearchCV(rf_model, param_grid, scoring='neg_mean_squared_error', cv=5)\n",
        "grid_search.fit(X_train, y_train)\n",
        "\n",
        "best_params = grid_search.best_params_\n",
        "\n",
        "print(best_params)"
      ],
      "metadata": {
        "id": "gRmBE6V928yR"
      },
      "execution_count": null,
      "outputs": []
    },
    {
      "cell_type": "code",
      "source": [
        "best_rf_model = RandomForestRegressor(random_state=42, **best_params)\n",
        "best_rf_model.fit(X_train, y_train)\n",
        "\n",
        "y_pred_best3 = best_rf_model.predict(X_test)\n",
        "\n",
        "mse_best = mean_squared_error(y_test, y_pred_best3)\n",
        "mae_best = mean_absolute_error(y_test, y_pred_best3)\n",
        "r2_best = r2_score(y_test, y_pred_best3)\n",
        "\n",
        "print(f'Best Hyperparameters: {best_params}')\n",
        "print(f'Mean Squared Error (Random Forest Regression - Best Model): {mse_best}')\n",
        "print(f'Mean Absolute Error (Random Forest Regression - Best Model): {mae_best}')\n",
        "print(f'R-squared Score (Random Forest Regression - Best Model): {r2_best}')"
      ],
      "metadata": {
        "id": "X8v1uTLd36h1"
      },
      "execution_count": null,
      "outputs": []
    },
    {
      "cell_type": "code",
      "source": [
        "plt.figure(figsize=(8,6))\n",
        "plt.scatter(y_test, y_pred_best3, color='blue', marker='o', label='Actual vs. Predicted')\n",
        "plt.xlabel('Actual Values')\n",
        "plt.ylabel('Predicted Values')\n",
        "plt.title('Scatter Plot of Actual vs. Predicted Values')\n",
        "plt.plot([min(y_test), max(y_test)], [min(y_pred_best3), max(y_pred_best3)], linestyle='--', color='red', label='Perfect Prediction')\n",
        "plt.legend()\n",
        "plt.show()"
      ],
      "metadata": {
        "id": "hsgUzA4y_F7S"
      },
      "execution_count": null,
      "outputs": []
    },
    {
      "cell_type": "markdown",
      "source": [
        "### ***XGB-REGRESSOR***"
      ],
      "metadata": {
        "id": "_kWlYepJCRrl"
      }
    },
    {
      "cell_type": "code",
      "source": [
        "param_grid = {\n",
        "    'n_estimators': [10, 20, 50],\n",
        "    'learning_rate': [0.01, 0.1, 0.2],\n",
        "    'max_depth': [3, 4, 5],\n",
        "    'subsample': [0.8, 0.9, 1.0],\n",
        "    'colsample_bytree': [0.8, 0.9, 1.0],\n",
        "    'gamma': [0, 1, 5]\n",
        "}\n",
        "\n",
        "xgb_model = XGBRegressor(objective='reg:squarederror', random_state=42)\n",
        "grid_search = GridSearchCV(xgb_model, param_grid, scoring='neg_mean_squared_error', cv=5)\n",
        "grid_search.fit(X_train, y_train)\n",
        "\n",
        "best_params = grid_search.best_params_\n",
        "\n",
        "print(best_params)"
      ],
      "metadata": {
        "id": "wiLW2PXXAUBU"
      },
      "execution_count": null,
      "outputs": []
    },
    {
      "cell_type": "code",
      "source": [
        "best_xgb_model = XGBRegressor(objective='reg:squarederror', random_state=42, **best_params)\n",
        "best_xgb_model.fit(X_train, y_train)\n",
        "\n",
        "y_pred_best4 = best_xgb_model.predict(X_test)\n",
        "\n",
        "mse_best = mean_squared_error(y_test, y_pred_best4)\n",
        "mae_best = mean_absolute_error(y_test, y_pred_best4)\n",
        "r2_best = r2_score(y_test, y_pred_best4)\n",
        "\n",
        "print(f'Best Hyperparameters: {best_params}')\n",
        "print(f'Mean Squared Error (XGBoost Regression - Best Model): {mse_best}')\n",
        "print(f'Mean Absolute Error (XGBoost Regression - Best Model): {mae_best}')\n",
        "print(f'R-squared Score (XGBoost Regression - Best Model): {r2_best}')"
      ],
      "metadata": {
        "id": "TIVGwzQnCdF2"
      },
      "execution_count": null,
      "outputs": []
    },
    {
      "cell_type": "code",
      "source": [
        "plt.figure(figsize=(8,6))\n",
        "plt.scatter(y_test, y_pred_best4, color='blue', marker='o', label='Actual vs. Predicted')\n",
        "plt.xlabel('Actual Values')\n",
        "plt.ylabel('Predicted Values')\n",
        "plt.title('Scatter Plot of Actual vs. Predicted Values')\n",
        "plt.plot([min(y_test), max(y_test)], [min(y_pred_best4), max(y_pred_best4)], linestyle='--', color='red', label='Perfect Prediction')\n",
        "plt.legend()\n",
        "plt.show()"
      ],
      "metadata": {
        "id": "27xo0L5WENXO"
      },
      "execution_count": null,
      "outputs": []
    },
    {
      "cell_type": "markdown",
      "source": [
        "### ***ANN regression***"
      ],
      "metadata": {
        "id": "6rmYOcWAG852"
      }
    },
    {
      "cell_type": "code",
      "source": [
        "model = keras.Sequential()\n",
        "\n",
        "model.add(layers.Dense(256, activation='relu', input_shape=(X_train.shape[1],)))\n",
        "model.add(layers.Dropout(0.2))\n",
        "model.add(layers.Dense(128, activation='relu'))\n",
        "model.add(layers.Dropout(0.2))\n",
        "model.add(layers.Dense(64, activation='relu'))\n",
        "model.add(layers.Dropout(0.2))\n",
        "model.add(layers.Dense(32, activation='relu'))\n",
        "model.add(layers.Dropout(0.2))\n",
        "model.add(layers.Dense(16, activation='relu'))\n",
        "model.add(layers.Dropout(0.2))\n",
        "model.add(layers.Dense(8, activation='relu'))\n",
        "model.add(layers.Dropout(0.2))\n",
        "model.add(layers.Dense(4, activation='relu'))\n",
        "model.add(layers.Dropout(0.2))\n",
        "model.add(layers.Dense(1, activation='linear'))\n",
        "\n",
        "model.compile(optimizer='adam', loss='mean_squared_error', metrics=['accuracy'])\n",
        "\n",
        "model.fit(X_train, y_train, epochs=50, batch_size=32, validation_split=0.2)"
      ],
      "metadata": {
        "id": "E610tMZPFIJh"
      },
      "execution_count": null,
      "outputs": []
    },
    {
      "cell_type": "code",
      "source": [
        "y_pred = model.predict(X_test).flatten()\n",
        "\n",
        "mse = mean_squared_error(y_test, y_pred)\n",
        "mae = mean_absolute_error(y_test, y_pred)\n",
        "r2 = r2_score(y_test, y_pred)\n",
        "\n",
        "print(f'Mean Squared Error (ANN Regression): {mse}')\n",
        "print(f'Mean Absolute Error (ANN Regression): {mae}')\n",
        "print(f'R-squared Score (ANN Regression): {r2}')"
      ],
      "metadata": {
        "id": "3fMDe0YnIPAc"
      },
      "execution_count": null,
      "outputs": []
    },
    {
      "cell_type": "code",
      "source": [],
      "metadata": {
        "id": "_SP1ODN-OAiK"
      },
      "execution_count": null,
      "outputs": []
    }
  ]
}